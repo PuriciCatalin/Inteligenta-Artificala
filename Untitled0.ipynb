{
  "nbformat": 4,
  "nbformat_minor": 0,
  "metadata": {
    "colab": {
      "provenance": [],
      "authorship_tag": "ABX9TyM0S5wEIQg26B7lRgPm24u5",
      "include_colab_link": true
    },
    "kernelspec": {
      "name": "python3",
      "display_name": "Python 3"
    },
    "language_info": {
      "name": "python"
    }
  },
  "cells": [
    {
      "cell_type": "markdown",
      "metadata": {
        "id": "view-in-github",
        "colab_type": "text"
      },
      "source": [
        "<a href=\"https://colab.research.google.com/github/PuriciCatalin/Inteligenta-Artificala/blob/main/Untitled0.ipynb\" target=\"_parent\"><img src=\"https://colab.research.google.com/assets/colab-badge.svg\" alt=\"Open In Colab\"/></a>"
      ]
    },
    {
      "cell_type": "code",
      "source": [
        "import requests\n",
        "\n",
        "# Set the API key for your OpenWeatherAPI account\n",
        "api_key = \"ada1fdb05bf77ae3b41e5a76923d558f\"\n",
        "\n",
        "# Set the location for which you want to get the weather data\n",
        "city = input('Introdu numele orasului:')\n",
        "\n",
        "# Set the API endpoint for the current weather data\n",
        "endpoint = \"https://api.openweathermap.org/data/2.5/weather\"\n",
        "\n",
        "# Set the parameters for the request\n",
        "params = {\n",
        "    \"q\": city,\n",
        "    \"appid\": api_key,\n",
        "    \"units\": \"metric\"\n",
        "}\n",
        "\n",
        "# Send the GET request to the API endpoint\n",
        "response = requests.get(endpoint, params=params)\n",
        "\n",
        "# Print the response status code to check if the request was successful\n",
        "print(response.status_code)\n",
        "\n",
        "# If the request was successful, parse the JSON data from the ressponse\n",
        "if response.status_code == 200:\n",
        "    data = response.json()\n",
        "    print(data)\n",
        "    vreme=data['weather'][0]['description']\n",
        "    temperature=round(data['main']['temp'],2)\n",
        "    wind=data['wind']['speed']\n",
        "    print(vreme)\n",
        "    print(temperature)\n",
        "    print(wind)\n",
        "    file_name = \"data.txt\"\n",
        "\n",
        "    with open(file_name, \"w\") as file:\n",
        "        file.write('data='+str(data))\n",
        "\n",
        "else:\n",
        "    print('Nu exista asa oras, mai incearca sa reintroduci numele')"
      ],
      "metadata": {
        "colab": {
          "base_uri": "https://localhost:8080/"
        },
        "id": "DY2H4LofHpgY",
        "outputId": "c8486e03-4eb9-407b-dd29-7ecc197b4cd7"
      },
      "execution_count": 6,
      "outputs": [
        {
          "output_type": "stream",
          "name": "stdout",
          "text": [
            "Introdu numele orasului:Bacau\n",
            "200\n",
            "{'coord': {'lon': 26.9, 'lat': 46.5667}, 'weather': [{'id': 741, 'main': 'Fog', 'description': 'fog', 'icon': '50d'}], 'base': 'stations', 'main': {'temp': 4.05, 'feels_like': 4.05, 'temp_min': 4.05, 'temp_max': 4.05, 'pressure': 1013, 'humidity': 93}, 'visibility': 500, 'wind': {'speed': 1.03, 'deg': 0}, 'clouds': {'all': 100}, 'dt': 1670576519, 'sys': {'type': 1, 'id': 6909, 'country': 'RO', 'sunrise': 1670564666, 'sunset': 1670595908}, 'timezone': 7200, 'id': 685948, 'name': 'Bacau', 'cod': 200}\n",
            "fog\n",
            "4.05\n",
            "1.03\n"
          ]
        }
      ]
    }
  ]
}